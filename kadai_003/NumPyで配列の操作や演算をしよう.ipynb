{
  "nbformat": 4,
  "nbformat_minor": 0,
  "metadata": {
    "colab": {
      "provenance": []
    },
    "kernelspec": {
      "name": "python3",
      "display_name": "Python 3"
    },
    "language_info": {
      "name": "python"
    }
  },
  "cells": [
    {
      "cell_type": "code",
      "execution_count": 14,
      "metadata": {
        "id": "WVDqAI6wLzSV"
      },
      "outputs": [],
      "source": [
        "# numpyの読み込み\n",
        "import numpy as np\n",
        "\n",
        "A = np.array([[0, 1], [2, 3], [4, 5]])\n",
        "B = np.array([[0, 1, 2, 3],[4, 5, 6, 7]])\n",
        "result = np.dot(A, B)"
      ]
    },
    {
      "cell_type": "code",
      "source": [
        "result.max()"
      ],
      "metadata": {
        "colab": {
          "base_uri": "https://localhost:8080/"
        },
        "id": "HXX1405xPNs_",
        "outputId": "4bc595f8-7a7c-41a4-b4d7-157dda838605"
      },
      "execution_count": 15,
      "outputs": [
        {
          "output_type": "execute_result",
          "data": {
            "text/plain": [
              "np.int64(47)"
            ]
          },
          "metadata": {},
          "execution_count": 15
        }
      ]
    }
  ]
}